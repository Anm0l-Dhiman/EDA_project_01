{
 "cells": [
  {
   "cell_type": "markdown",
   "id": "2049a62f",
   "metadata": {},
   "source": [
    "# EDA PROJECT ON CARS PRICE PREDICTION"
   ]
  },
  {
   "cell_type": "markdown",
   "id": "99f5c40d",
   "metadata": {},
   "source": [
    "### importing libraries"
   ]
  },
  {
   "cell_type": "code",
   "execution_count": 1,
   "id": "7bc62cab",
   "metadata": {},
   "outputs": [],
   "source": [
    "import pandas as pd\n",
    "import numpy as np"
   ]
  },
  {
   "cell_type": "markdown",
   "id": "93cec3e1",
   "metadata": {},
   "source": [
    "## Importing dataset"
   ]
  },
  {
   "cell_type": "code",
   "execution_count": 2,
   "id": "0981d68c",
   "metadata": {},
   "outputs": [
    {
     "data": {
      "text/html": [
       "<div>\n",
       "<style scoped>\n",
       "    .dataframe tbody tr th:only-of-type {\n",
       "        vertical-align: middle;\n",
       "    }\n",
       "\n",
       "    .dataframe tbody tr th {\n",
       "        vertical-align: top;\n",
       "    }\n",
       "\n",
       "    .dataframe thead th {\n",
       "        text-align: right;\n",
       "    }\n",
       "</style>\n",
       "<table border=\"1\" class=\"dataframe\">\n",
       "  <thead>\n",
       "    <tr style=\"text-align: right;\">\n",
       "      <th></th>\n",
       "      <th>Make</th>\n",
       "      <th>Model</th>\n",
       "      <th>Year</th>\n",
       "      <th>Engine Fuel Type</th>\n",
       "      <th>Engine HP</th>\n",
       "      <th>Engine Cylinders</th>\n",
       "      <th>Transmission Type</th>\n",
       "      <th>Driven_Wheels</th>\n",
       "      <th>Number of Doors</th>\n",
       "      <th>Market Category</th>\n",
       "      <th>Vehicle Size</th>\n",
       "      <th>Vehicle Style</th>\n",
       "      <th>highway MPG</th>\n",
       "      <th>city mpg</th>\n",
       "      <th>Popularity</th>\n",
       "      <th>MSRP</th>\n",
       "    </tr>\n",
       "  </thead>\n",
       "  <tbody>\n",
       "    <tr>\n",
       "      <th>0</th>\n",
       "      <td>BMW</td>\n",
       "      <td>1 Series M</td>\n",
       "      <td>2011</td>\n",
       "      <td>premium unleaded (required)</td>\n",
       "      <td>335.0</td>\n",
       "      <td>6.0</td>\n",
       "      <td>MANUAL</td>\n",
       "      <td>rear wheel drive</td>\n",
       "      <td>2.0</td>\n",
       "      <td>Factory Tuner,Luxury,High-Performance</td>\n",
       "      <td>Compact</td>\n",
       "      <td>Coupe</td>\n",
       "      <td>26</td>\n",
       "      <td>19</td>\n",
       "      <td>3916</td>\n",
       "      <td>46135</td>\n",
       "    </tr>\n",
       "    <tr>\n",
       "      <th>1</th>\n",
       "      <td>BMW</td>\n",
       "      <td>1 Series</td>\n",
       "      <td>2011</td>\n",
       "      <td>premium unleaded (required)</td>\n",
       "      <td>300.0</td>\n",
       "      <td>6.0</td>\n",
       "      <td>MANUAL</td>\n",
       "      <td>rear wheel drive</td>\n",
       "      <td>2.0</td>\n",
       "      <td>Luxury,Performance</td>\n",
       "      <td>Compact</td>\n",
       "      <td>Convertible</td>\n",
       "      <td>28</td>\n",
       "      <td>19</td>\n",
       "      <td>3916</td>\n",
       "      <td>40650</td>\n",
       "    </tr>\n",
       "    <tr>\n",
       "      <th>2</th>\n",
       "      <td>BMW</td>\n",
       "      <td>1 Series</td>\n",
       "      <td>2011</td>\n",
       "      <td>premium unleaded (required)</td>\n",
       "      <td>300.0</td>\n",
       "      <td>6.0</td>\n",
       "      <td>MANUAL</td>\n",
       "      <td>rear wheel drive</td>\n",
       "      <td>2.0</td>\n",
       "      <td>Luxury,High-Performance</td>\n",
       "      <td>Compact</td>\n",
       "      <td>Coupe</td>\n",
       "      <td>28</td>\n",
       "      <td>20</td>\n",
       "      <td>3916</td>\n",
       "      <td>36350</td>\n",
       "    </tr>\n",
       "    <tr>\n",
       "      <th>3</th>\n",
       "      <td>BMW</td>\n",
       "      <td>1 Series</td>\n",
       "      <td>2011</td>\n",
       "      <td>premium unleaded (required)</td>\n",
       "      <td>230.0</td>\n",
       "      <td>6.0</td>\n",
       "      <td>MANUAL</td>\n",
       "      <td>rear wheel drive</td>\n",
       "      <td>2.0</td>\n",
       "      <td>Luxury,Performance</td>\n",
       "      <td>Compact</td>\n",
       "      <td>Coupe</td>\n",
       "      <td>28</td>\n",
       "      <td>18</td>\n",
       "      <td>3916</td>\n",
       "      <td>29450</td>\n",
       "    </tr>\n",
       "    <tr>\n",
       "      <th>4</th>\n",
       "      <td>BMW</td>\n",
       "      <td>1 Series</td>\n",
       "      <td>2011</td>\n",
       "      <td>premium unleaded (required)</td>\n",
       "      <td>230.0</td>\n",
       "      <td>6.0</td>\n",
       "      <td>MANUAL</td>\n",
       "      <td>rear wheel drive</td>\n",
       "      <td>2.0</td>\n",
       "      <td>Luxury</td>\n",
       "      <td>Compact</td>\n",
       "      <td>Convertible</td>\n",
       "      <td>28</td>\n",
       "      <td>18</td>\n",
       "      <td>3916</td>\n",
       "      <td>34500</td>\n",
       "    </tr>\n",
       "  </tbody>\n",
       "</table>\n",
       "</div>"
      ],
      "text/plain": [
       "  Make       Model  Year             Engine Fuel Type  Engine HP  \\\n",
       "0  BMW  1 Series M  2011  premium unleaded (required)      335.0   \n",
       "1  BMW    1 Series  2011  premium unleaded (required)      300.0   \n",
       "2  BMW    1 Series  2011  premium unleaded (required)      300.0   \n",
       "3  BMW    1 Series  2011  premium unleaded (required)      230.0   \n",
       "4  BMW    1 Series  2011  premium unleaded (required)      230.0   \n",
       "\n",
       "   Engine Cylinders Transmission Type     Driven_Wheels  Number of Doors  \\\n",
       "0               6.0            MANUAL  rear wheel drive              2.0   \n",
       "1               6.0            MANUAL  rear wheel drive              2.0   \n",
       "2               6.0            MANUAL  rear wheel drive              2.0   \n",
       "3               6.0            MANUAL  rear wheel drive              2.0   \n",
       "4               6.0            MANUAL  rear wheel drive              2.0   \n",
       "\n",
       "                         Market Category Vehicle Size Vehicle Style  \\\n",
       "0  Factory Tuner,Luxury,High-Performance      Compact         Coupe   \n",
       "1                     Luxury,Performance      Compact   Convertible   \n",
       "2                Luxury,High-Performance      Compact         Coupe   \n",
       "3                     Luxury,Performance      Compact         Coupe   \n",
       "4                                 Luxury      Compact   Convertible   \n",
       "\n",
       "   highway MPG  city mpg  Popularity   MSRP  \n",
       "0           26        19        3916  46135  \n",
       "1           28        19        3916  40650  \n",
       "2           28        20        3916  36350  \n",
       "3           28        18        3916  29450  \n",
       "4           28        18        3916  34500  "
      ]
     },
     "execution_count": 2,
     "metadata": {},
     "output_type": "execute_result"
    }
   ],
   "source": [
    "data= pd.read_csv('data.csv')\n",
    "data.head()"
   ]
  },
  {
   "cell_type": "code",
   "execution_count": 3,
   "id": "6ed73b9f",
   "metadata": {},
   "outputs": [
    {
     "data": {
      "text/plain": [
       "Make                  object\n",
       "Model                 object\n",
       "Year                   int64\n",
       "Engine Fuel Type      object\n",
       "Engine HP            float64\n",
       "Engine Cylinders     float64\n",
       "Transmission Type     object\n",
       "Driven_Wheels         object\n",
       "Number of Doors      float64\n",
       "Market Category       object\n",
       "Vehicle Size          object\n",
       "Vehicle Style         object\n",
       "highway MPG            int64\n",
       "city mpg               int64\n",
       "Popularity             int64\n",
       "MSRP                   int64\n",
       "dtype: object"
      ]
     },
     "execution_count": 3,
     "metadata": {},
     "output_type": "execute_result"
    }
   ],
   "source": [
    "data.dtypes"
   ]
  },
  {
   "cell_type": "code",
   "execution_count": 4,
   "id": "9db0bf94",
   "metadata": {},
   "outputs": [
    {
     "data": {
      "text/html": [
       "<div>\n",
       "<style scoped>\n",
       "    .dataframe tbody tr th:only-of-type {\n",
       "        vertical-align: middle;\n",
       "    }\n",
       "\n",
       "    .dataframe tbody tr th {\n",
       "        vertical-align: top;\n",
       "    }\n",
       "\n",
       "    .dataframe thead th {\n",
       "        text-align: right;\n",
       "    }\n",
       "</style>\n",
       "<table border=\"1\" class=\"dataframe\">\n",
       "  <thead>\n",
       "    <tr style=\"text-align: right;\">\n",
       "      <th></th>\n",
       "      <th>Year</th>\n",
       "      <th>Engine HP</th>\n",
       "      <th>Engine Cylinders</th>\n",
       "      <th>Number of Doors</th>\n",
       "      <th>highway MPG</th>\n",
       "      <th>city mpg</th>\n",
       "      <th>Popularity</th>\n",
       "      <th>MSRP</th>\n",
       "    </tr>\n",
       "  </thead>\n",
       "  <tbody>\n",
       "    <tr>\n",
       "      <th>count</th>\n",
       "      <td>11914.000000</td>\n",
       "      <td>11845.00000</td>\n",
       "      <td>11884.000000</td>\n",
       "      <td>11908.000000</td>\n",
       "      <td>11914.000000</td>\n",
       "      <td>11914.000000</td>\n",
       "      <td>11914.000000</td>\n",
       "      <td>1.191400e+04</td>\n",
       "    </tr>\n",
       "    <tr>\n",
       "      <th>mean</th>\n",
       "      <td>2010.384338</td>\n",
       "      <td>249.38607</td>\n",
       "      <td>5.628829</td>\n",
       "      <td>3.436093</td>\n",
       "      <td>26.637485</td>\n",
       "      <td>19.733255</td>\n",
       "      <td>1554.911197</td>\n",
       "      <td>4.059474e+04</td>\n",
       "    </tr>\n",
       "    <tr>\n",
       "      <th>std</th>\n",
       "      <td>7.579740</td>\n",
       "      <td>109.19187</td>\n",
       "      <td>1.780559</td>\n",
       "      <td>0.881315</td>\n",
       "      <td>8.863001</td>\n",
       "      <td>8.987798</td>\n",
       "      <td>1441.855347</td>\n",
       "      <td>6.010910e+04</td>\n",
       "    </tr>\n",
       "    <tr>\n",
       "      <th>min</th>\n",
       "      <td>1990.000000</td>\n",
       "      <td>55.00000</td>\n",
       "      <td>0.000000</td>\n",
       "      <td>2.000000</td>\n",
       "      <td>12.000000</td>\n",
       "      <td>7.000000</td>\n",
       "      <td>2.000000</td>\n",
       "      <td>2.000000e+03</td>\n",
       "    </tr>\n",
       "    <tr>\n",
       "      <th>25%</th>\n",
       "      <td>2007.000000</td>\n",
       "      <td>170.00000</td>\n",
       "      <td>4.000000</td>\n",
       "      <td>2.000000</td>\n",
       "      <td>22.000000</td>\n",
       "      <td>16.000000</td>\n",
       "      <td>549.000000</td>\n",
       "      <td>2.100000e+04</td>\n",
       "    </tr>\n",
       "    <tr>\n",
       "      <th>50%</th>\n",
       "      <td>2015.000000</td>\n",
       "      <td>227.00000</td>\n",
       "      <td>6.000000</td>\n",
       "      <td>4.000000</td>\n",
       "      <td>26.000000</td>\n",
       "      <td>18.000000</td>\n",
       "      <td>1385.000000</td>\n",
       "      <td>2.999500e+04</td>\n",
       "    </tr>\n",
       "    <tr>\n",
       "      <th>75%</th>\n",
       "      <td>2016.000000</td>\n",
       "      <td>300.00000</td>\n",
       "      <td>6.000000</td>\n",
       "      <td>4.000000</td>\n",
       "      <td>30.000000</td>\n",
       "      <td>22.000000</td>\n",
       "      <td>2009.000000</td>\n",
       "      <td>4.223125e+04</td>\n",
       "    </tr>\n",
       "    <tr>\n",
       "      <th>max</th>\n",
       "      <td>2017.000000</td>\n",
       "      <td>1001.00000</td>\n",
       "      <td>16.000000</td>\n",
       "      <td>4.000000</td>\n",
       "      <td>354.000000</td>\n",
       "      <td>137.000000</td>\n",
       "      <td>5657.000000</td>\n",
       "      <td>2.065902e+06</td>\n",
       "    </tr>\n",
       "  </tbody>\n",
       "</table>\n",
       "</div>"
      ],
      "text/plain": [
       "               Year    Engine HP  Engine Cylinders  Number of Doors  \\\n",
       "count  11914.000000  11845.00000      11884.000000     11908.000000   \n",
       "mean    2010.384338    249.38607          5.628829         3.436093   \n",
       "std        7.579740    109.19187          1.780559         0.881315   \n",
       "min     1990.000000     55.00000          0.000000         2.000000   \n",
       "25%     2007.000000    170.00000          4.000000         2.000000   \n",
       "50%     2015.000000    227.00000          6.000000         4.000000   \n",
       "75%     2016.000000    300.00000          6.000000         4.000000   \n",
       "max     2017.000000   1001.00000         16.000000         4.000000   \n",
       "\n",
       "        highway MPG      city mpg    Popularity          MSRP  \n",
       "count  11914.000000  11914.000000  11914.000000  1.191400e+04  \n",
       "mean      26.637485     19.733255   1554.911197  4.059474e+04  \n",
       "std        8.863001      8.987798   1441.855347  6.010910e+04  \n",
       "min       12.000000      7.000000      2.000000  2.000000e+03  \n",
       "25%       22.000000     16.000000    549.000000  2.100000e+04  \n",
       "50%       26.000000     18.000000   1385.000000  2.999500e+04  \n",
       "75%       30.000000     22.000000   2009.000000  4.223125e+04  \n",
       "max      354.000000    137.000000   5657.000000  2.065902e+06  "
      ]
     },
     "execution_count": 4,
     "metadata": {},
     "output_type": "execute_result"
    }
   ],
   "source": [
    "data.describe()"
   ]
  },
  {
   "cell_type": "code",
   "execution_count": 5,
   "id": "753225d5",
   "metadata": {},
   "outputs": [],
   "source": [
    "data.columns=data.columns.str.lower().str.replace(\" \",\"_\")"
   ]
  },
  {
   "cell_type": "code",
   "execution_count": 6,
   "id": "d95e2289",
   "metadata": {},
   "outputs": [
    {
     "data": {
      "text/html": [
       "<div>\n",
       "<style scoped>\n",
       "    .dataframe tbody tr th:only-of-type {\n",
       "        vertical-align: middle;\n",
       "    }\n",
       "\n",
       "    .dataframe tbody tr th {\n",
       "        vertical-align: top;\n",
       "    }\n",
       "\n",
       "    .dataframe thead th {\n",
       "        text-align: right;\n",
       "    }\n",
       "</style>\n",
       "<table border=\"1\" class=\"dataframe\">\n",
       "  <thead>\n",
       "    <tr style=\"text-align: right;\">\n",
       "      <th></th>\n",
       "      <th>make</th>\n",
       "      <th>model</th>\n",
       "      <th>year</th>\n",
       "      <th>engine_fuel_type</th>\n",
       "      <th>engine_hp</th>\n",
       "      <th>engine_cylinders</th>\n",
       "      <th>transmission_type</th>\n",
       "      <th>driven_wheels</th>\n",
       "      <th>number_of_doors</th>\n",
       "      <th>market_category</th>\n",
       "      <th>vehicle_size</th>\n",
       "      <th>vehicle_style</th>\n",
       "      <th>highway_mpg</th>\n",
       "      <th>city_mpg</th>\n",
       "      <th>popularity</th>\n",
       "      <th>msrp</th>\n",
       "    </tr>\n",
       "  </thead>\n",
       "  <tbody>\n",
       "    <tr>\n",
       "      <th>0</th>\n",
       "      <td>BMW</td>\n",
       "      <td>1 Series M</td>\n",
       "      <td>2011</td>\n",
       "      <td>premium unleaded (required)</td>\n",
       "      <td>335.0</td>\n",
       "      <td>6.0</td>\n",
       "      <td>MANUAL</td>\n",
       "      <td>rear wheel drive</td>\n",
       "      <td>2.0</td>\n",
       "      <td>Factory Tuner,Luxury,High-Performance</td>\n",
       "      <td>Compact</td>\n",
       "      <td>Coupe</td>\n",
       "      <td>26</td>\n",
       "      <td>19</td>\n",
       "      <td>3916</td>\n",
       "      <td>46135</td>\n",
       "    </tr>\n",
       "    <tr>\n",
       "      <th>1</th>\n",
       "      <td>BMW</td>\n",
       "      <td>1 Series</td>\n",
       "      <td>2011</td>\n",
       "      <td>premium unleaded (required)</td>\n",
       "      <td>300.0</td>\n",
       "      <td>6.0</td>\n",
       "      <td>MANUAL</td>\n",
       "      <td>rear wheel drive</td>\n",
       "      <td>2.0</td>\n",
       "      <td>Luxury,Performance</td>\n",
       "      <td>Compact</td>\n",
       "      <td>Convertible</td>\n",
       "      <td>28</td>\n",
       "      <td>19</td>\n",
       "      <td>3916</td>\n",
       "      <td>40650</td>\n",
       "    </tr>\n",
       "    <tr>\n",
       "      <th>2</th>\n",
       "      <td>BMW</td>\n",
       "      <td>1 Series</td>\n",
       "      <td>2011</td>\n",
       "      <td>premium unleaded (required)</td>\n",
       "      <td>300.0</td>\n",
       "      <td>6.0</td>\n",
       "      <td>MANUAL</td>\n",
       "      <td>rear wheel drive</td>\n",
       "      <td>2.0</td>\n",
       "      <td>Luxury,High-Performance</td>\n",
       "      <td>Compact</td>\n",
       "      <td>Coupe</td>\n",
       "      <td>28</td>\n",
       "      <td>20</td>\n",
       "      <td>3916</td>\n",
       "      <td>36350</td>\n",
       "    </tr>\n",
       "    <tr>\n",
       "      <th>3</th>\n",
       "      <td>BMW</td>\n",
       "      <td>1 Series</td>\n",
       "      <td>2011</td>\n",
       "      <td>premium unleaded (required)</td>\n",
       "      <td>230.0</td>\n",
       "      <td>6.0</td>\n",
       "      <td>MANUAL</td>\n",
       "      <td>rear wheel drive</td>\n",
       "      <td>2.0</td>\n",
       "      <td>Luxury,Performance</td>\n",
       "      <td>Compact</td>\n",
       "      <td>Coupe</td>\n",
       "      <td>28</td>\n",
       "      <td>18</td>\n",
       "      <td>3916</td>\n",
       "      <td>29450</td>\n",
       "    </tr>\n",
       "    <tr>\n",
       "      <th>4</th>\n",
       "      <td>BMW</td>\n",
       "      <td>1 Series</td>\n",
       "      <td>2011</td>\n",
       "      <td>premium unleaded (required)</td>\n",
       "      <td>230.0</td>\n",
       "      <td>6.0</td>\n",
       "      <td>MANUAL</td>\n",
       "      <td>rear wheel drive</td>\n",
       "      <td>2.0</td>\n",
       "      <td>Luxury</td>\n",
       "      <td>Compact</td>\n",
       "      <td>Convertible</td>\n",
       "      <td>28</td>\n",
       "      <td>18</td>\n",
       "      <td>3916</td>\n",
       "      <td>34500</td>\n",
       "    </tr>\n",
       "  </tbody>\n",
       "</table>\n",
       "</div>"
      ],
      "text/plain": [
       "  make       model  year             engine_fuel_type  engine_hp  \\\n",
       "0  BMW  1 Series M  2011  premium unleaded (required)      335.0   \n",
       "1  BMW    1 Series  2011  premium unleaded (required)      300.0   \n",
       "2  BMW    1 Series  2011  premium unleaded (required)      300.0   \n",
       "3  BMW    1 Series  2011  premium unleaded (required)      230.0   \n",
       "4  BMW    1 Series  2011  premium unleaded (required)      230.0   \n",
       "\n",
       "   engine_cylinders transmission_type     driven_wheels  number_of_doors  \\\n",
       "0               6.0            MANUAL  rear wheel drive              2.0   \n",
       "1               6.0            MANUAL  rear wheel drive              2.0   \n",
       "2               6.0            MANUAL  rear wheel drive              2.0   \n",
       "3               6.0            MANUAL  rear wheel drive              2.0   \n",
       "4               6.0            MANUAL  rear wheel drive              2.0   \n",
       "\n",
       "                         market_category vehicle_size vehicle_style  \\\n",
       "0  Factory Tuner,Luxury,High-Performance      Compact         Coupe   \n",
       "1                     Luxury,Performance      Compact   Convertible   \n",
       "2                Luxury,High-Performance      Compact         Coupe   \n",
       "3                     Luxury,Performance      Compact         Coupe   \n",
       "4                                 Luxury      Compact   Convertible   \n",
       "\n",
       "   highway_mpg  city_mpg  popularity   msrp  \n",
       "0           26        19        3916  46135  \n",
       "1           28        19        3916  40650  \n",
       "2           28        20        3916  36350  \n",
       "3           28        18        3916  29450  \n",
       "4           28        18        3916  34500  "
      ]
     },
     "execution_count": 6,
     "metadata": {},
     "output_type": "execute_result"
    }
   ],
   "source": [
    "data.head()"
   ]
  },
  {
   "cell_type": "code",
   "execution_count": 7,
   "id": "7f88bcc9",
   "metadata": {},
   "outputs": [
    {
     "data": {
      "text/plain": [
       "regular unleaded                                7172\n",
       "premium unleaded (required)                     2009\n",
       "premium unleaded (recommended)                  1523\n",
       "flex-fuel (unleaded/E85)                         899\n",
       "diesel                                           154\n",
       "electric                                          66\n",
       "flex-fuel (premium unleaded required/E85)         54\n",
       "flex-fuel (premium unleaded recommended/E85)      26\n",
       "flex-fuel (unleaded/natural gas)                   6\n",
       "natural gas                                        2\n",
       "Name: engine_fuel_type, dtype: int64"
      ]
     },
     "execution_count": 7,
     "metadata": {},
     "output_type": "execute_result"
    }
   ],
   "source": [
    "data.engine_fuel_type.value_counts()"
   ]
  },
  {
   "cell_type": "code",
   "execution_count": 8,
   "id": "45a8c83f",
   "metadata": {},
   "outputs": [
    {
     "data": {
      "text/plain": [
       "Crossover             1110\n",
       "Flex Fuel              872\n",
       "Luxury                 855\n",
       "Luxury,Performance     673\n",
       "Hatchback              641\n",
       "Name: market_category, dtype: int64"
      ]
     },
     "execution_count": 8,
     "metadata": {},
     "output_type": "execute_result"
    }
   ],
   "source": [
    "data.market_category.value_counts().head()"
   ]
  },
  {
   "cell_type": "code",
   "execution_count": 9,
   "id": "9456a580",
   "metadata": {},
   "outputs": [
    {
     "data": {
      "text/plain": [
       "make                    0\n",
       "model                   0\n",
       "year                    0\n",
       "engine_fuel_type        3\n",
       "engine_hp              69\n",
       "engine_cylinders       30\n",
       "transmission_type       0\n",
       "driven_wheels           0\n",
       "number_of_doors         6\n",
       "market_category      3742\n",
       "vehicle_size            0\n",
       "vehicle_style           0\n",
       "highway_mpg             0\n",
       "city_mpg                0\n",
       "popularity              0\n",
       "msrp                    0\n",
       "dtype: int64"
      ]
     },
     "execution_count": 9,
     "metadata": {},
     "output_type": "execute_result"
    }
   ],
   "source": [
    "data.isnull().sum()"
   ]
  },
  {
   "cell_type": "code",
   "execution_count": 10,
   "id": "c9aab29e",
   "metadata": {},
   "outputs": [
    {
     "data": {
      "text/plain": [
       "make                  0.00\n",
       "model                 0.00\n",
       "year                  0.00\n",
       "engine_fuel_type      0.03\n",
       "engine_hp             0.58\n",
       "engine_cylinders      0.25\n",
       "transmission_type     0.00\n",
       "driven_wheels         0.00\n",
       "number_of_doors       0.05\n",
       "market_category      31.41\n",
       "vehicle_size          0.00\n",
       "vehicle_style         0.00\n",
       "highway_mpg           0.00\n",
       "city_mpg              0.00\n",
       "popularity            0.00\n",
       "msrp                  0.00\n",
       "dtype: float64"
      ]
     },
     "execution_count": 10,
     "metadata": {},
     "output_type": "execute_result"
    }
   ],
   "source": [
    "\n",
    "round((data.isnull().sum() / (len(data.index)) * 100) , 2)\n"
   ]
  },
  {
   "cell_type": "markdown",
   "id": "74c38901",
   "metadata": {},
   "source": [
    "# Data cleaning"
   ]
  },
  {
   "cell_type": "code",
   "execution_count": 11,
   "id": "15cdf486",
   "metadata": {},
   "outputs": [],
   "source": [
    "data['market_category'].fillna(data['market_category'].mode()[0], inplace = True)\n",
    "data['engine_fuel_type'].fillna(data['engine_fuel_type'].mode()[0], inplace = True)\n",
    "   "
   ]
  },
  {
   "cell_type": "code",
   "execution_count": 12,
   "id": "a3e31cca",
   "metadata": {},
   "outputs": [
    {
     "data": {
      "text/plain": [
       "make                  0\n",
       "model                 0\n",
       "year                  0\n",
       "engine_fuel_type      0\n",
       "engine_hp            69\n",
       "engine_cylinders     30\n",
       "transmission_type     0\n",
       "driven_wheels         0\n",
       "number_of_doors       6\n",
       "market_category       0\n",
       "vehicle_size          0\n",
       "vehicle_style         0\n",
       "highway_mpg           0\n",
       "city_mpg              0\n",
       "popularity            0\n",
       "msrp                  0\n",
       "dtype: int64"
      ]
     },
     "execution_count": 12,
     "metadata": {},
     "output_type": "execute_result"
    }
   ],
   "source": [
    "data.isnull().sum()"
   ]
  },
  {
   "cell_type": "code",
   "execution_count": 13,
   "id": "18eaa313",
   "metadata": {},
   "outputs": [],
   "source": [
    "data['engine_hp'].fillna(data['engine_hp'].mean(), inplace = True)"
   ]
  },
  {
   "cell_type": "code",
   "execution_count": 14,
   "id": "c14cec7e",
   "metadata": {},
   "outputs": [
    {
     "data": {
      "text/plain": [
       "make                  0\n",
       "model                 0\n",
       "year                  0\n",
       "engine_fuel_type      0\n",
       "engine_hp             0\n",
       "engine_cylinders     30\n",
       "transmission_type     0\n",
       "driven_wheels         0\n",
       "number_of_doors       6\n",
       "market_category       0\n",
       "vehicle_size          0\n",
       "vehicle_style         0\n",
       "highway_mpg           0\n",
       "city_mpg              0\n",
       "popularity            0\n",
       "msrp                  0\n",
       "dtype: int64"
      ]
     },
     "execution_count": 14,
     "metadata": {},
     "output_type": "execute_result"
    }
   ],
   "source": [
    "data.isnull().sum()"
   ]
  },
  {
   "cell_type": "code",
   "execution_count": 15,
   "id": "4114f29f",
   "metadata": {},
   "outputs": [],
   "source": [
    "data['engine_cylinders'].fillna(data['engine_cylinders'].median(), inplace = True)\n",
    "data['number_of_doors'].fillna(data['number_of_doors'].median(), inplace = True)"
   ]
  },
  {
   "cell_type": "code",
   "execution_count": 16,
   "id": "1dc5f02d",
   "metadata": {},
   "outputs": [
    {
     "data": {
      "text/plain": [
       "make                 0\n",
       "model                0\n",
       "year                 0\n",
       "engine_fuel_type     0\n",
       "engine_hp            0\n",
       "engine_cylinders     0\n",
       "transmission_type    0\n",
       "driven_wheels        0\n",
       "number_of_doors      0\n",
       "market_category      0\n",
       "vehicle_size         0\n",
       "vehicle_style        0\n",
       "highway_mpg          0\n",
       "city_mpg             0\n",
       "popularity           0\n",
       "msrp                 0\n",
       "dtype: int64"
      ]
     },
     "execution_count": 16,
     "metadata": {},
     "output_type": "execute_result"
    }
   ],
   "source": [
    "data.isnull().sum()"
   ]
  },
  {
   "cell_type": "markdown",
   "id": "e9bad0c6",
   "metadata": {},
   "source": [
    "# checking for duplicates\n"
   ]
  },
  {
   "cell_type": "code",
   "execution_count": 17,
   "id": "b3031e1e",
   "metadata": {},
   "outputs": [
    {
     "data": {
      "text/plain": [
       "'Total number of of Duplicates present in data: 715'"
      ]
     },
     "metadata": {},
     "output_type": "display_data"
    }
   ],
   "source": [
    "display(\"Total number of of Duplicates present in data: %s\" %data.duplicated().sum())"
   ]
  },
  {
   "cell_type": "code",
   "execution_count": 18,
   "id": "e51fe72b",
   "metadata": {},
   "outputs": [
    {
     "data": {
      "text/plain": [
       "'Total number of of Duplicates present in data: 0'"
      ]
     },
     "metadata": {},
     "output_type": "display_data"
    }
   ],
   "source": [
    "# dropping duplicates values\n",
    "data.drop_duplicates(inplace = True)\n",
    "\n",
    "display(\"Total number of of Duplicates present in data: %s\" %data.duplicated().sum())"
   ]
  },
  {
   "cell_type": "markdown",
   "id": "3615a0c0",
   "metadata": {},
   "source": [
    "# finding correlation "
   ]
  },
  {
   "cell_type": "code",
   "execution_count": 19,
   "id": "b599e917",
   "metadata": {},
   "outputs": [
    {
     "data": {
      "text/html": [
       "<style type=\"text/css\">\n",
       "#T_38a20_row0_col0, #T_38a20_row1_col1, #T_38a20_row2_col2, #T_38a20_row3_col3, #T_38a20_row4_col4, #T_38a20_row5_col5, #T_38a20_row6_col6, #T_38a20_row7_col7 {\n",
       "  background-color: #000000;\n",
       "  color: #f1f1f1;\n",
       "}\n",
       "#T_38a20_row0_col1 {\n",
       "  background-color: #9a623e;\n",
       "  color: #f1f1f1;\n",
       "}\n",
       "#T_38a20_row0_col2 {\n",
       "  background-color: #cc8152;\n",
       "  color: #f1f1f1;\n",
       "}\n",
       "#T_38a20_row0_col3 {\n",
       "  background-color: #ce8253;\n",
       "  color: #f1f1f1;\n",
       "}\n",
       "#T_38a20_row0_col4 {\n",
       "  background-color: #955f3c;\n",
       "  color: #f1f1f1;\n",
       "}\n",
       "#T_38a20_row0_col5 {\n",
       "  background-color: #a36742;\n",
       "  color: #f1f1f1;\n",
       "}\n",
       "#T_38a20_row0_col6, #T_38a20_row1_col5 {\n",
       "  background-color: #ffad6e;\n",
       "  color: #000000;\n",
       "}\n",
       "#T_38a20_row0_col7 {\n",
       "  background-color: #d68756;\n",
       "  color: #f1f1f1;\n",
       "}\n",
       "#T_38a20_row1_col0 {\n",
       "  background-color: #cb8052;\n",
       "  color: #f1f1f1;\n",
       "}\n",
       "#T_38a20_row1_col2 {\n",
       "  background-color: #2c1c12;\n",
       "  color: #f1f1f1;\n",
       "}\n",
       "#T_38a20_row1_col3, #T_38a20_row3_col7 {\n",
       "  background-color: #ffc47d;\n",
       "  color: #000000;\n",
       "}\n",
       "#T_38a20_row1_col4 {\n",
       "  background-color: #ffaa6c;\n",
       "  color: #000000;\n",
       "}\n",
       "#T_38a20_row1_col6 {\n",
       "  background-color: #ffb473;\n",
       "  color: #000000;\n",
       "}\n",
       "#T_38a20_row1_col7, #T_38a20_row7_col2 {\n",
       "  background-color: #5b3a25;\n",
       "  color: #f1f1f1;\n",
       "}\n",
       "#T_38a20_row2_col0, #T_38a20_row2_col3, #T_38a20_row2_col4, #T_38a20_row2_col5, #T_38a20_row3_col6, #T_38a20_row4_col1, #T_38a20_row4_col2, #T_38a20_row4_col7, #T_38a20_row5_col7 {\n",
       "  background-color: #ffc77f;\n",
       "  color: #000000;\n",
       "}\n",
       "#T_38a20_row2_col1 {\n",
       "  background-color: #342115;\n",
       "  color: #f1f1f1;\n",
       "}\n",
       "#T_38a20_row2_col6 {\n",
       "  background-color: #ffb573;\n",
       "  color: #000000;\n",
       "}\n",
       "#T_38a20_row2_col7 {\n",
       "  background-color: #7d4f32;\n",
       "  color: #f1f1f1;\n",
       "}\n",
       "#T_38a20_row3_col0, #T_38a20_row4_col0 {\n",
       "  background-color: #e6915d;\n",
       "  color: #f1f1f1;\n",
       "}\n",
       "#T_38a20_row3_col1 {\n",
       "  background-color: #ffa669;\n",
       "  color: #000000;\n",
       "}\n",
       "#T_38a20_row3_col2 {\n",
       "  background-color: #e3905c;\n",
       "  color: #f1f1f1;\n",
       "}\n",
       "#T_38a20_row3_col4 {\n",
       "  background-color: #ae6e46;\n",
       "  color: #f1f1f1;\n",
       "}\n",
       "#T_38a20_row3_col5 {\n",
       "  background-color: #b27048;\n",
       "  color: #f1f1f1;\n",
       "}\n",
       "#T_38a20_row4_col3 {\n",
       "  background-color: #f39a62;\n",
       "  color: #000000;\n",
       "}\n",
       "#T_38a20_row4_col5, #T_38a20_row5_col4 {\n",
       "  background-color: #160e09;\n",
       "  color: #f1f1f1;\n",
       "}\n",
       "#T_38a20_row4_col6 {\n",
       "  background-color: #ffc07a;\n",
       "  color: #000000;\n",
       "}\n",
       "#T_38a20_row5_col0 {\n",
       "  background-color: #f79c64;\n",
       "  color: #000000;\n",
       "}\n",
       "#T_38a20_row5_col1, #T_38a20_row7_col3, #T_38a20_row7_col6 {\n",
       "  background-color: #ffc67e;\n",
       "  color: #000000;\n",
       "}\n",
       "#T_38a20_row5_col2 {\n",
       "  background-color: #ffc37c;\n",
       "  color: #000000;\n",
       "}\n",
       "#T_38a20_row5_col3, #T_38a20_row7_col0 {\n",
       "  background-color: #f19861;\n",
       "  color: #000000;\n",
       "}\n",
       "#T_38a20_row5_col6 {\n",
       "  background-color: #ffbd78;\n",
       "  color: #000000;\n",
       "}\n",
       "#T_38a20_row6_col0 {\n",
       "  background-color: #ffb170;\n",
       "  color: #000000;\n",
       "}\n",
       "#T_38a20_row6_col1 {\n",
       "  background-color: #de8d5a;\n",
       "  color: #f1f1f1;\n",
       "}\n",
       "#T_38a20_row6_col2 {\n",
       "  background-color: #be784d;\n",
       "  color: #f1f1f1;\n",
       "}\n",
       "#T_38a20_row6_col3 {\n",
       "  background-color: #ffb875;\n",
       "  color: #000000;\n",
       "}\n",
       "#T_38a20_row6_col4, #T_38a20_row6_col5 {\n",
       "  background-color: #c97f51;\n",
       "  color: #f1f1f1;\n",
       "}\n",
       "#T_38a20_row6_col7 {\n",
       "  background-color: #ffb472;\n",
       "  color: #000000;\n",
       "}\n",
       "#T_38a20_row7_col1 {\n",
       "  background-color: #4f3220;\n",
       "  color: #f1f1f1;\n",
       "}\n",
       "#T_38a20_row7_col4 {\n",
       "  background-color: #e7925d;\n",
       "  color: #f1f1f1;\n",
       "}\n",
       "#T_38a20_row7_col5 {\n",
       "  background-color: #eb945f;\n",
       "  color: #f1f1f1;\n",
       "}\n",
       "</style>\n",
       "<table id=\"T_38a20_\">\n",
       "  <thead>\n",
       "    <tr>\n",
       "      <th class=\"blank level0\" >&nbsp;</th>\n",
       "      <th class=\"col_heading level0 col0\" >year</th>\n",
       "      <th class=\"col_heading level0 col1\" >engine_hp</th>\n",
       "      <th class=\"col_heading level0 col2\" >engine_cylinders</th>\n",
       "      <th class=\"col_heading level0 col3\" >number_of_doors</th>\n",
       "      <th class=\"col_heading level0 col4\" >highway_mpg</th>\n",
       "      <th class=\"col_heading level0 col5\" >city_mpg</th>\n",
       "      <th class=\"col_heading level0 col6\" >popularity</th>\n",
       "      <th class=\"col_heading level0 col7\" >msrp</th>\n",
       "    </tr>\n",
       "  </thead>\n",
       "  <tbody>\n",
       "    <tr>\n",
       "      <th id=\"T_38a20_level0_row0\" class=\"row_heading level0 row0\" >year</th>\n",
       "      <td id=\"T_38a20_row0_col0\" class=\"data row0 col0\" >1.000000</td>\n",
       "      <td id=\"T_38a20_row0_col1\" class=\"data row0 col1\" >0.335573</td>\n",
       "      <td id=\"T_38a20_row0_col2\" class=\"data row0 col2\" >-0.034152</td>\n",
       "      <td id=\"T_38a20_row0_col3\" class=\"data row0 col3\" >0.247739</td>\n",
       "      <td id=\"T_38a20_row0_col4\" class=\"data row0 col4\" >0.244972</td>\n",
       "      <td id=\"T_38a20_row0_col5\" class=\"data row0 col5\" >0.188417</td>\n",
       "      <td id=\"T_38a20_row0_col6\" class=\"data row0 col6\" >0.085874</td>\n",
       "      <td id=\"T_38a20_row0_col7\" class=\"data row0 col7\" >0.209635</td>\n",
       "    </tr>\n",
       "    <tr>\n",
       "      <th id=\"T_38a20_level0_row1\" class=\"row_heading level0 row1\" >engine_hp</th>\n",
       "      <td id=\"T_38a20_row1_col0\" class=\"data row1 col0\" >0.335573</td>\n",
       "      <td id=\"T_38a20_row1_col1\" class=\"data row1 col1\" >1.000000</td>\n",
       "      <td id=\"T_38a20_row1_col2\" class=\"data row1 col2\" >0.772510</td>\n",
       "      <td id=\"T_38a20_row1_col3\" class=\"data row1 col3\" >-0.128917</td>\n",
       "      <td id=\"T_38a20_row1_col4\" class=\"data row1 col4\" >-0.359993</td>\n",
       "      <td id=\"T_38a20_row1_col5\" class=\"data row1 col5\" >-0.351397</td>\n",
       "      <td id=\"T_38a20_row1_col6\" class=\"data row1 col6\" >0.042186</td>\n",
       "      <td id=\"T_38a20_row1_col7\" class=\"data row1 col7\" >0.658789</td>\n",
       "    </tr>\n",
       "    <tr>\n",
       "      <th id=\"T_38a20_level0_row2\" class=\"row_heading level0 row2\" >engine_cylinders</th>\n",
       "      <td id=\"T_38a20_row2_col0\" class=\"data row2 col0\" >-0.034152</td>\n",
       "      <td id=\"T_38a20_row2_col1\" class=\"data row2 col1\" >0.772510</td>\n",
       "      <td id=\"T_38a20_row2_col2\" class=\"data row2 col2\" >1.000000</td>\n",
       "      <td id=\"T_38a20_row2_col3\" class=\"data row2 col3\" >-0.149798</td>\n",
       "      <td id=\"T_38a20_row2_col4\" class=\"data row2 col4\" >-0.596246</td>\n",
       "      <td id=\"T_38a20_row2_col5\" class=\"data row2 col5\" >-0.562599</td>\n",
       "      <td id=\"T_38a20_row2_col6\" class=\"data row2 col6\" >0.038325</td>\n",
       "      <td id=\"T_38a20_row2_col7\" class=\"data row2 col7\" >0.538531</td>\n",
       "    </tr>\n",
       "    <tr>\n",
       "      <th id=\"T_38a20_level0_row3\" class=\"row_heading level0 row3\" >number_of_doors</th>\n",
       "      <td id=\"T_38a20_row3_col0\" class=\"data row3 col0\" >0.247739</td>\n",
       "      <td id=\"T_38a20_row3_col1\" class=\"data row3 col1\" >-0.128917</td>\n",
       "      <td id=\"T_38a20_row3_col2\" class=\"data row3 col2\" >-0.149798</td>\n",
       "      <td id=\"T_38a20_row3_col3\" class=\"data row3 col3\" >1.000000</td>\n",
       "      <td id=\"T_38a20_row3_col4\" class=\"data row3 col4\" >0.115081</td>\n",
       "      <td id=\"T_38a20_row3_col5\" class=\"data row3 col5\" >0.121013</td>\n",
       "      <td id=\"T_38a20_row3_col6\" class=\"data row3 col6\" >-0.057213</td>\n",
       "      <td id=\"T_38a20_row3_col7\" class=\"data row3 col7\" >-0.144353</td>\n",
       "    </tr>\n",
       "    <tr>\n",
       "      <th id=\"T_38a20_level0_row4\" class=\"row_heading level0 row4\" >highway_mpg</th>\n",
       "      <td id=\"T_38a20_row4_col0\" class=\"data row4 col0\" >0.244972</td>\n",
       "      <td id=\"T_38a20_row4_col1\" class=\"data row4 col1\" >-0.359993</td>\n",
       "      <td id=\"T_38a20_row4_col2\" class=\"data row4 col2\" >-0.596246</td>\n",
       "      <td id=\"T_38a20_row4_col3\" class=\"data row4 col3\" >0.115081</td>\n",
       "      <td id=\"T_38a20_row4_col4\" class=\"data row4 col4\" >1.000000</td>\n",
       "      <td id=\"T_38a20_row4_col5\" class=\"data row4 col5\" >0.886299</td>\n",
       "      <td id=\"T_38a20_row4_col6\" class=\"data row4 col6\" >-0.017159</td>\n",
       "      <td id=\"T_38a20_row4_col7\" class=\"data row4 col7\" >-0.166631</td>\n",
       "    </tr>\n",
       "    <tr>\n",
       "      <th id=\"T_38a20_level0_row5\" class=\"row_heading level0 row5\" >city_mpg</th>\n",
       "      <td id=\"T_38a20_row5_col0\" class=\"data row5 col0\" >0.188417</td>\n",
       "      <td id=\"T_38a20_row5_col1\" class=\"data row5 col1\" >-0.351397</td>\n",
       "      <td id=\"T_38a20_row5_col2\" class=\"data row5 col2\" >-0.562599</td>\n",
       "      <td id=\"T_38a20_row5_col3\" class=\"data row5 col3\" >0.121013</td>\n",
       "      <td id=\"T_38a20_row5_col4\" class=\"data row5 col4\" >0.886299</td>\n",
       "      <td id=\"T_38a20_row5_col5\" class=\"data row5 col5\" >1.000000</td>\n",
       "      <td id=\"T_38a20_row5_col6\" class=\"data row5 col6\" >-0.000549</td>\n",
       "      <td id=\"T_38a20_row5_col7\" class=\"data row5 col7\" >-0.162343</td>\n",
       "    </tr>\n",
       "    <tr>\n",
       "      <th id=\"T_38a20_level0_row6\" class=\"row_heading level0 row6\" >popularity</th>\n",
       "      <td id=\"T_38a20_row6_col0\" class=\"data row6 col0\" >0.085874</td>\n",
       "      <td id=\"T_38a20_row6_col1\" class=\"data row6 col1\" >0.042186</td>\n",
       "      <td id=\"T_38a20_row6_col2\" class=\"data row6 col2\" >0.038325</td>\n",
       "      <td id=\"T_38a20_row6_col3\" class=\"data row6 col3\" >-0.057213</td>\n",
       "      <td id=\"T_38a20_row6_col4\" class=\"data row6 col4\" >-0.017159</td>\n",
       "      <td id=\"T_38a20_row6_col5\" class=\"data row6 col5\" >-0.000549</td>\n",
       "      <td id=\"T_38a20_row6_col6\" class=\"data row6 col6\" >1.000000</td>\n",
       "      <td id=\"T_38a20_row6_col7\" class=\"data row6 col7\" >-0.048371</td>\n",
       "    </tr>\n",
       "    <tr>\n",
       "      <th id=\"T_38a20_level0_row7\" class=\"row_heading level0 row7\" >msrp</th>\n",
       "      <td id=\"T_38a20_row7_col0\" class=\"data row7 col0\" >0.209635</td>\n",
       "      <td id=\"T_38a20_row7_col1\" class=\"data row7 col1\" >0.658789</td>\n",
       "      <td id=\"T_38a20_row7_col2\" class=\"data row7 col2\" >0.538531</td>\n",
       "      <td id=\"T_38a20_row7_col3\" class=\"data row7 col3\" >-0.144353</td>\n",
       "      <td id=\"T_38a20_row7_col4\" class=\"data row7 col4\" >-0.166631</td>\n",
       "      <td id=\"T_38a20_row7_col5\" class=\"data row7 col5\" >-0.162343</td>\n",
       "      <td id=\"T_38a20_row7_col6\" class=\"data row7 col6\" >-0.048371</td>\n",
       "      <td id=\"T_38a20_row7_col7\" class=\"data row7 col7\" >1.000000</td>\n",
       "    </tr>\n",
       "  </tbody>\n",
       "</table>\n"
      ],
      "text/plain": [
       "<pandas.io.formats.style.Styler at 0x6e2090c790>"
      ]
     },
     "execution_count": 19,
     "metadata": {},
     "output_type": "execute_result"
    }
   ],
   "source": [
    "data.corr().style.background_gradient('copper_r')"
   ]
  },
  {
   "cell_type": "code",
   "execution_count": 20,
   "id": "2590fdef",
   "metadata": {},
   "outputs": [],
   "source": [
    "import seaborn as sns\n",
    "import matplotlib.pyplot as plt"
   ]
  },
  {
   "cell_type": "code",
   "execution_count": 21,
   "id": "beab4d85",
   "metadata": {},
   "outputs": [
    {
     "data": {
      "image/png": "[encoded data removed]",
      "text/plain": [
       "<Figure size 720x720 with 2 Axes>"
      ]
     },
     "metadata": {
      "needs_background": "light"
     },
     "output_type": "display_data"
    }
   ],
   "source": [
    "fig, ax = plt.subplots(figsize=(10,10)) \n",
    "sns.heatmap(data.corr(), cmap = 'copper_r', annot = True, lw = 0.1,linewidths=.5, ax=ax);"
   ]
  },
  {
   "cell_type": "markdown",
   "id": "b181cba0",
   "metadata": {},
   "source": [
    "## Observations\n",
    "\n",
    "### 1. msrp has correlations with engine_hp and engine_cylinders\n",
    "### 2. also popularity is correlated with year"
   ]
  },
  {
   "cell_type": "markdown",
   "id": "6b06931b",
   "metadata": {},
   "source": [
    "# Vehicle production by companies"
   ]
  },
  {
   "cell_type": "code",
   "execution_count": 22,
   "id": "4bdac9cf",
   "metadata": {},
   "outputs": [
    {
     "data": {
      "image/png": "[encoded data removed]",
      "text/plain": [
       "<Figure size 1080x360 with 1 Axes>"
      ]
     },
     "metadata": {
      "needs_background": "light"
     },
     "output_type": "display_data"
    }
   ],
   "source": [
    "data.make.value_counts().nlargest(10).plot(kind='bar', figsize=(15,5))\n",
    "plt.title(\"Number of vehicles by make\")\n",
    "plt.ylabel('Number of vehicles')\n",
    "plt.xlabel('Make');\n"
   ]
  },
  {
   "cell_type": "markdown",
   "id": "db1220ea",
   "metadata": {},
   "source": [
    "## Observation\n",
    "\n",
    "### Chevrolet has highest numbers of model of cars"
   ]
  },
  {
   "cell_type": "markdown",
   "id": "4dc8d66e",
   "metadata": {},
   "source": [
    "# Fuel type"
   ]
  },
  {
   "cell_type": "code",
   "execution_count": 23,
   "id": "649fac9a",
   "metadata": {},
   "outputs": [
    {
     "data": {
      "text/plain": [
       "Text(0.5, 0, 'Fuel type')"
      ]
     },
     "execution_count": 23,
     "metadata": {},
     "output_type": "execute_result"
    },
    {
     "data": {
      "image/png": "[encoded data removed]",
      "text/plain": [
       "<Figure size 432x288 with 1 Axes>"
      ]
     },
     "metadata": {
      "needs_background": "light"
     },
     "output_type": "display_data"
    }
   ],
   "source": [
    "data['engine_fuel_type'].value_counts().plot(kind='bar',color='purple')\n",
    "plt.title(\"Fuel type frequence diagram\")\n",
    "plt.ylabel('Number of vehicles')\n",
    "plt.xlabel('Fuel type')"
   ]
  },
  {
   "cell_type": "markdown",
   "id": "62d83144",
   "metadata": {},
   "source": [
    "## Observation \n",
    "\n",
    "### regular unleaded is the most used fuel type\n",
    "### natural gas is the least used \n"
   ]
  },
  {
   "cell_type": "code",
   "execution_count": 24,
   "id": "7807e44d",
   "metadata": {},
   "outputs": [
    {
     "data": {
      "text/plain": [
       "(11199, 16)"
      ]
     },
     "execution_count": 24,
     "metadata": {},
     "output_type": "execute_result"
    }
   ],
   "source": [
    "data.shape"
   ]
  },
  {
   "cell_type": "markdown",
   "id": "e53f040e",
   "metadata": {},
   "source": [
    "# How many wheel drives"
   ]
  },
  {
   "cell_type": "code",
   "execution_count": 25,
   "id": "358bcc65",
   "metadata": {},
   "outputs": [
    {
     "data": {
      "text/plain": [
       "Text(0.5, 0, 'Drive wheels')"
      ]
     },
     "execution_count": 25,
     "metadata": {},
     "output_type": "execute_result"
    },
    {
     "data": {
      "image/png": "[encoded data removed]",
      "text/plain": [
       "<Figure size 432x288 with 1 Axes>"
      ]
     },
     "metadata": {
      "needs_background": "light"
     },
     "output_type": "display_data"
    }
   ],
   "source": [
    "data['driven_wheels'].value_counts().plot(kind='bar',color='grey')\n",
    "plt.title(\"Drive wheels diagram\")\n",
    "plt.ylabel('Number of vehicles')\n",
    "plt.xlabel('Drive wheels')"
   ]
  },
  {
   "cell_type": "markdown",
   "id": "12d06037",
   "metadata": {},
   "source": [
    "# Number of doors"
   ]
  },
  {
   "cell_type": "code",
   "execution_count": 26,
   "id": "a5dec9c5",
   "metadata": {},
   "outputs": [
    {
     "data": {
      "text/plain": [
       "Text(0.5, 0, 'Number of doors')"
      ]
     },
     "execution_count": 26,
     "metadata": {},
     "output_type": "execute_result"
    },
    {
     "data": {
      "image/png": "[encoded data removed]",
      "text/plain": [
       "<Figure size 432x288 with 1 Axes>"
      ]
     },
     "metadata": {
      "needs_background": "light"
     },
     "output_type": "display_data"
    }
   ],
   "source": [
    "data['number_of_doors'].value_counts().plot(kind='bar',color='purple')\n",
    "plt.title(\"Number of doors frequency diagram\")\n",
    "plt.ylabel('Number of vehicles')\n",
    "plt.xlabel('Number of doors')"
   ]
  },
  {
   "cell_type": "markdown",
   "id": "13eaeb0e",
   "metadata": {},
   "source": [
    "### Three doors vehicles are also there\n"
   ]
  },
  {
   "cell_type": "markdown",
   "id": "190ab15e",
   "metadata": {},
   "source": [
    "# Which companies making expensive cars"
   ]
  },
  {
   "cell_type": "code",
   "execution_count": 27,
   "id": "212326c7",
   "metadata": {},
   "outputs": [
    {
     "data": {
      "image/png": "[encoded data removed]",
      "text/plain": [
       "<Figure size 1440x720 with 1 Axes>"
      ]
     },
     "metadata": {
      "needs_background": "light"
     },
     "output_type": "display_data"
    }
   ],
   "source": [
    "plt.figure(figsize=(20,10))\n",
    "sns.barplot(x='make', y=\"msrp\", data=data)\n",
    "plt.xticks(rotation = 90)\n",
    "plt.show()"
   ]
  },
  {
   "cell_type": "markdown",
   "id": "455e3bd5",
   "metadata": {},
   "source": [
    "## Observation\n",
    "### Buggatti producing most expensive cars\n",
    "### followed by Maybach and Rolls-Roys"
   ]
  },
  {
   "cell_type": "code",
   "execution_count": 30,
   "id": "0fd9b0ad",
   "metadata": {},
   "outputs": [
    {
     "data": {
      "image/png": "[encoded data removed]",
      "text/plain": [
       "<Figure size 432x288 with 1 Axes>"
      ]
     },
     "metadata": {
      "needs_background": "light"
     },
     "output_type": "display_data"
    }
   ],
   "source": [
    "sns.lineplot(data=data,x='engine_cylinders',y='city_mpg')\n",
    "plt.show()"
   ]
  },
  {
   "cell_type": "code",
   "execution_count": 39,
   "id": "433bf0b6",
   "metadata": {},
   "outputs": [
    {
     "data": {
      "image/png": "[encoded data removed]",
      "text/plain": [
       "<Figure size 432x288 with 1 Axes>"
      ]
     },
     "metadata": {
      "needs_background": "light"
     },
     "output_type": "display_data"
    }
   ],
   "source": [
    "sns.boxplot(data=data,  x='vehicle_size', y='msrp')\n",
    "plt.show()"
   ]
  }
 ],
 "metadata": {
  "kernelspec": {
   "display_name": "Python 3 (ipykernel)",
   "language": "python",
   "name": "python3"
  },
  "language_info": {
   "codemirror_mode": {
    "name": "ipython",
    "version": 3
   },
   "file_extension": ".py",
   "mimetype": "text/x-python",
   "name": "python",
   "nbconvert_exporter": "python",
   "pygments_lexer": "ipython3",
   "version": "3.9.7"
  }
 },
 "nbformat": 4,
 "nbformat_minor": 5
}
